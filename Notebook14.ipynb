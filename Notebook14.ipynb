{
 "cells": [
  {
   "cell_type": "markdown",
   "id": "d8bba665",
   "metadata": {},
   "source": [
    "<img src=\"https://www.sturgischarterschool.com/wp-content/uploads/2019/06/sturgisheader_logo.png\" alt=\"sturgis\" width=\"250\" align=\"right\"/>\n",
    "\n",
    "## Computer Science 'May I Recommend PART ONE'\n",
    "### Sturgis Charter Public School \n",
    "\n"
   ]
  },
  {
   "cell_type": "markdown",
   "id": "681696fb",
   "metadata": {},
   "source": [
    "Student: [your name here]\n",
    "\n",
    "Collaborators: [N/A]\n",
    "\n",
    "Notes to the teacher: [N/A]"
   ]
  },
  {
   "cell_type": "markdown",
   "id": "16bf0839",
   "metadata": {},
   "source": [
    "### Learning Objectives for notebook \n",
    "Part I\n",
    "* Pandas-Data Visualization\n",
    "* Normalization\n",
    "* Feature Selection\n",
    "\n",
    "Part II\n",
    "* Matrix Operations\n",
    "* Mean Square Error\n",
    "* Gradient Descent\n",
    "* Matrix Factorization"
   ]
  },
  {
   "cell_type": "markdown",
   "id": "847fce08",
   "metadata": {},
   "source": [
    "### Narrative\n",
    "\n",
    "This notebook is so big that it's being broken into two notebooks. We're going to do something pretty cool here, but it's got a bunch of moving parts. One of the key aspects of this notebook is that we need to be able to visualize our data. Our long goal is to be able to build a recommender system, and don't worry: I'll guide you through this. So long as you pay attention in class, you should be able to follow along. \n",
    "\n",
    "#### Pandas & Data Visualization\n",
    "\n",
    "Some of the tools that we are going to need from pandas include the following. Here is the holistic [documentation](https://pandas.pydata.org/docs/reference/api/pandas.DataFrame.gt.html).\n",
    "\n",
    "* Get slices of columns and/or rows. [df.loc[VARIOUS FORMATS]](https://pandas.pydata.org/docs/reference/api/pandas.DataFrame.loc.html)\n",
    "* join two or more tables[df.join()](https://pandas.pydata.org/docs/reference/api/pandas.DataFrame.join.html) OR [df.merge()](https://pandas.pydata.org/docs/reference/api/pandas.DataFrame.merge.html)\n",
    "* Sort the table by a particular column and the values within that column[df.sort_values()](https://pandas.pydata.org/docs/reference/api/pandas.DataFrame.sort_values.html)\n",
    "* transform a dataframe into a dictionary or list [df.to_dict()](https://pandas.pydata.org/docs/reference/api/pandas.DataFrame.to_dict.html)\n",
    "* We might also need to bring our output into string format. [df.to_string()](https://pandas.pydata.org/docs/reference/api/pandas.DataFrame.to_string.html)\n",
    "* Might be helpful to see the shape of a df. [df.shape](https://pandas.pydata.org/docs/reference/api/pandas.DataFrame.shape.html)\n",
    "* Modify certain values at a particular index. [df.at[INDEX, 'COLUMN']](https://pandas.pydata.org/docs/reference/api/pandas.DataFrame.at.html)\n",
    "* Transpose the data from row/column to column/row. [df.T or df.transpose()](https://pandas.pydata.org/docs/reference/api/pandas.DataFrame.transpose.html)\n",
    "* Drop rows that have a Not a Number (NaN) value. [df.dropna()](https://pandas.pydata.org/docs/reference/api/pandas.DataFrame.dropna.html)\n",
    "\n",
    "#### Feature Selection\n",
    "\n",
    "Next we need to consider what features we are going to use. Now, remember, that we want a system that will be able to compute a recommendation. Here we should pause and consider. Do we want qualitative or qantitative data? How would we compute either. Consider this [article](https://articles.outlier.org/discrete-vs-continuous-variables), which has some very helpful examples. To do so we need to keep in mind two different kinds of values. There can be discrete values and there can be continuous values.\n",
    "\n",
    "A discrete value is something that can be counted. \n",
    "\n",
    "A continuous value is something that must be measured. \n",
    "\n",
    "Considering this, we need to identify some features, and while you are doing this, I want you to consider the following: Why might `Age` be an especially unhelpful 'feature' for a recommender system. \n",
    "\n",
    "If then we can't use `Age`, what can we use? \n",
    "\n",
    "Consider the following: is a rating a discrete or a continuous value? Is there a way that we can measure the distance between two users? What if we didn't treat all users as equal? What do we do with missing values e.g. `NaN`?\n",
    "\n",
    "#### Normalization\n",
    "\n",
    "Normalization is well explained in the following article[Why Data Normalization is Necessary for Machine Learning Models](https://medium.com/@urvashilluniya/why-data-normalization-is-necessary-for-machine-learning-models-681b65a05029). In the introduction it states, \"Normalization is a technique often applied as part of data preparation for machine learning. The goal of normalization is to change the values of numeric columns in the dataset to a common scale, without distorting differences in the ranges of values.\" (Jaitley, 2018). But let's think of a simple example. Imagine that we have the following data:\n",
    "\n",
    "| usr  | hours  | rating 0-10 |\n",
    "|---|---|---|\n",
    "| a  | 27  | 7  |\n",
    "| b  | 3  |  10 |\n",
    "| c  | 500  | 9  |\n",
    "| d  | 43  |  7 |\n",
    "| e  |  127 |  10 |\n",
    "\n",
    "Now imagine that we wanted to find a relationship between the hours a person plays a game and the rating. What you might notice is that the range for hours goes from 3-500 (and could perhaps go even further). You'll also note that the rating is locked in at 0-10. What will happen if we try and relate these two values? Well, the scales between the two are so radically different, that it's impossible to get reasonable ratios. If, however, we normalize, we can end up with a table that looks like this. For the moment we will assume that the minimums are `0` and the max is `500`. Let's transform this data with just a bit of simple math. \n",
    "\n",
    "| usr  | hours 0-1 | rating 0-1 |\n",
    "|---|---|---|\n",
    "| a  | .054  | .7  |\n",
    "| b  | .006  |  1 |\n",
    "| c  | 1  | .9  |\n",
    "| d  | .086  |  .7 |\n",
    "| e  |  .254 |  1 |\n",
    "\n",
    "Now, of course, this is a simple example, but it actually can be quite necessary in order for the numbers to be able to play together in an appropriate way. 0 to 1 is a common convention. What our normalized data reveals here is that there is in fact NOT a relationship between play time and rating. Can you explain why?"
   ]
  },
  {
   "cell_type": "code",
   "execution_count": 1,
   "id": "fb3eb272",
   "metadata": {},
   "outputs": [],
   "source": [
    "import pandas as pd\n",
    "import numpy as np\n",
    "import warnings\n",
    "# https://docs.python.org/3/library/warnings.html"
   ]
  },
  {
   "cell_type": "code",
   "execution_count": 46,
   "id": "eac87217",
   "metadata": {},
   "outputs": [],
   "source": [
    "def fxn():\n",
    "    warnings.warn(\"deprecated\", DeprecationWarning)\n",
    "\n",
    "with warnings.catch_warnings():\n",
    "    warnings.simplefilter(\"ignore\")\n",
    "    bk = pd.read_csv('data/Books.csv')\n",
    "    us = pd.read_csv('data/Users.csv')\n",
    "    rt = pd.read_csv('data/Ratings.csv')"
   ]
  },
  {
   "cell_type": "code",
   "execution_count": 4,
   "id": "3bbfa39d",
   "metadata": {},
   "outputs": [
    {
     "data": {
      "text/html": [
       "<div>\n",
       "<style scoped>\n",
       "    .dataframe tbody tr th:only-of-type {\n",
       "        vertical-align: middle;\n",
       "    }\n",
       "\n",
       "    .dataframe tbody tr th {\n",
       "        vertical-align: top;\n",
       "    }\n",
       "\n",
       "    .dataframe thead th {\n",
       "        text-align: right;\n",
       "    }\n",
       "</style>\n",
       "<table border=\"1\" class=\"dataframe\">\n",
       "  <thead>\n",
       "    <tr style=\"text-align: right;\">\n",
       "      <th></th>\n",
       "      <th>ISBN</th>\n",
       "      <th>Book-Title</th>\n",
       "      <th>Book-Author</th>\n",
       "      <th>Year-Of-Publication</th>\n",
       "      <th>Publisher</th>\n",
       "      <th>Image-URL-S</th>\n",
       "      <th>Image-URL-M</th>\n",
       "      <th>Image-URL-L</th>\n",
       "    </tr>\n",
       "  </thead>\n",
       "  <tbody>\n",
       "    <tr>\n",
       "      <th>0</th>\n",
       "      <td>0195153448</td>\n",
       "      <td>Classical Mythology</td>\n",
       "      <td>Mark P. O. Morford</td>\n",
       "      <td>2002</td>\n",
       "      <td>Oxford University Press</td>\n",
       "      <td>http://images.amazon.com/images/P/0195153448.0...</td>\n",
       "      <td>http://images.amazon.com/images/P/0195153448.0...</td>\n",
       "      <td>http://images.amazon.com/images/P/0195153448.0...</td>\n",
       "    </tr>\n",
       "    <tr>\n",
       "      <th>1</th>\n",
       "      <td>0002005018</td>\n",
       "      <td>Clara Callan</td>\n",
       "      <td>Richard Bruce Wright</td>\n",
       "      <td>2001</td>\n",
       "      <td>HarperFlamingo Canada</td>\n",
       "      <td>http://images.amazon.com/images/P/0002005018.0...</td>\n",
       "      <td>http://images.amazon.com/images/P/0002005018.0...</td>\n",
       "      <td>http://images.amazon.com/images/P/0002005018.0...</td>\n",
       "    </tr>\n",
       "    <tr>\n",
       "      <th>2</th>\n",
       "      <td>0060973129</td>\n",
       "      <td>Decision in Normandy</td>\n",
       "      <td>Carlo D'Este</td>\n",
       "      <td>1991</td>\n",
       "      <td>HarperPerennial</td>\n",
       "      <td>http://images.amazon.com/images/P/0060973129.0...</td>\n",
       "      <td>http://images.amazon.com/images/P/0060973129.0...</td>\n",
       "      <td>http://images.amazon.com/images/P/0060973129.0...</td>\n",
       "    </tr>\n",
       "    <tr>\n",
       "      <th>3</th>\n",
       "      <td>0374157065</td>\n",
       "      <td>Flu: The Story of the Great Influenza Pandemic...</td>\n",
       "      <td>Gina Bari Kolata</td>\n",
       "      <td>1999</td>\n",
       "      <td>Farrar Straus Giroux</td>\n",
       "      <td>http://images.amazon.com/images/P/0374157065.0...</td>\n",
       "      <td>http://images.amazon.com/images/P/0374157065.0...</td>\n",
       "      <td>http://images.amazon.com/images/P/0374157065.0...</td>\n",
       "    </tr>\n",
       "    <tr>\n",
       "      <th>4</th>\n",
       "      <td>0393045218</td>\n",
       "      <td>The Mummies of Urumchi</td>\n",
       "      <td>E. J. W. Barber</td>\n",
       "      <td>1999</td>\n",
       "      <td>W. W. Norton &amp;amp; Company</td>\n",
       "      <td>http://images.amazon.com/images/P/0393045218.0...</td>\n",
       "      <td>http://images.amazon.com/images/P/0393045218.0...</td>\n",
       "      <td>http://images.amazon.com/images/P/0393045218.0...</td>\n",
       "    </tr>\n",
       "  </tbody>\n",
       "</table>\n",
       "</div>"
      ],
      "text/plain": [
       "         ISBN                                         Book-Title  \\\n",
       "0  0195153448                                Classical Mythology   \n",
       "1  0002005018                                       Clara Callan   \n",
       "2  0060973129                               Decision in Normandy   \n",
       "3  0374157065  Flu: The Story of the Great Influenza Pandemic...   \n",
       "4  0393045218                             The Mummies of Urumchi   \n",
       "\n",
       "            Book-Author Year-Of-Publication                   Publisher  \\\n",
       "0    Mark P. O. Morford                2002     Oxford University Press   \n",
       "1  Richard Bruce Wright                2001       HarperFlamingo Canada   \n",
       "2          Carlo D'Este                1991             HarperPerennial   \n",
       "3      Gina Bari Kolata                1999        Farrar Straus Giroux   \n",
       "4       E. J. W. Barber                1999  W. W. Norton &amp; Company   \n",
       "\n",
       "                                         Image-URL-S  \\\n",
       "0  http://images.amazon.com/images/P/0195153448.0...   \n",
       "1  http://images.amazon.com/images/P/0002005018.0...   \n",
       "2  http://images.amazon.com/images/P/0060973129.0...   \n",
       "3  http://images.amazon.com/images/P/0374157065.0...   \n",
       "4  http://images.amazon.com/images/P/0393045218.0...   \n",
       "\n",
       "                                         Image-URL-M  \\\n",
       "0  http://images.amazon.com/images/P/0195153448.0...   \n",
       "1  http://images.amazon.com/images/P/0002005018.0...   \n",
       "2  http://images.amazon.com/images/P/0060973129.0...   \n",
       "3  http://images.amazon.com/images/P/0374157065.0...   \n",
       "4  http://images.amazon.com/images/P/0393045218.0...   \n",
       "\n",
       "                                         Image-URL-L  \n",
       "0  http://images.amazon.com/images/P/0195153448.0...  \n",
       "1  http://images.amazon.com/images/P/0002005018.0...  \n",
       "2  http://images.amazon.com/images/P/0060973129.0...  \n",
       "3  http://images.amazon.com/images/P/0374157065.0...  \n",
       "4  http://images.amazon.com/images/P/0393045218.0...  "
      ]
     },
     "execution_count": 4,
     "metadata": {},
     "output_type": "execute_result"
    }
   ],
   "source": [
    "bk.head()"
   ]
  },
  {
   "cell_type": "code",
   "execution_count": 5,
   "id": "0836b385",
   "metadata": {},
   "outputs": [
    {
     "data": {
      "text/html": [
       "<div>\n",
       "<style scoped>\n",
       "    .dataframe tbody tr th:only-of-type {\n",
       "        vertical-align: middle;\n",
       "    }\n",
       "\n",
       "    .dataframe tbody tr th {\n",
       "        vertical-align: top;\n",
       "    }\n",
       "\n",
       "    .dataframe thead th {\n",
       "        text-align: right;\n",
       "    }\n",
       "</style>\n",
       "<table border=\"1\" class=\"dataframe\">\n",
       "  <thead>\n",
       "    <tr style=\"text-align: right;\">\n",
       "      <th></th>\n",
       "      <th>User-ID</th>\n",
       "      <th>Location</th>\n",
       "      <th>Age</th>\n",
       "    </tr>\n",
       "  </thead>\n",
       "  <tbody>\n",
       "    <tr>\n",
       "      <th>0</th>\n",
       "      <td>1</td>\n",
       "      <td>nyc, new york, usa</td>\n",
       "      <td>NaN</td>\n",
       "    </tr>\n",
       "    <tr>\n",
       "      <th>1</th>\n",
       "      <td>2</td>\n",
       "      <td>stockton, california, usa</td>\n",
       "      <td>18.0</td>\n",
       "    </tr>\n",
       "    <tr>\n",
       "      <th>2</th>\n",
       "      <td>3</td>\n",
       "      <td>moscow, yukon territory, russia</td>\n",
       "      <td>NaN</td>\n",
       "    </tr>\n",
       "    <tr>\n",
       "      <th>3</th>\n",
       "      <td>4</td>\n",
       "      <td>porto, v.n.gaia, portugal</td>\n",
       "      <td>17.0</td>\n",
       "    </tr>\n",
       "    <tr>\n",
       "      <th>4</th>\n",
       "      <td>5</td>\n",
       "      <td>farnborough, hants, united kingdom</td>\n",
       "      <td>NaN</td>\n",
       "    </tr>\n",
       "  </tbody>\n",
       "</table>\n",
       "</div>"
      ],
      "text/plain": [
       "   User-ID                            Location   Age\n",
       "0        1                  nyc, new york, usa   NaN\n",
       "1        2           stockton, california, usa  18.0\n",
       "2        3     moscow, yukon territory, russia   NaN\n",
       "3        4           porto, v.n.gaia, portugal  17.0\n",
       "4        5  farnborough, hants, united kingdom   NaN"
      ]
     },
     "execution_count": 5,
     "metadata": {},
     "output_type": "execute_result"
    }
   ],
   "source": [
    "us.head()"
   ]
  },
  {
   "cell_type": "code",
   "execution_count": 6,
   "id": "c361ce5d",
   "metadata": {},
   "outputs": [
    {
     "data": {
      "text/html": [
       "<div>\n",
       "<style scoped>\n",
       "    .dataframe tbody tr th:only-of-type {\n",
       "        vertical-align: middle;\n",
       "    }\n",
       "\n",
       "    .dataframe tbody tr th {\n",
       "        vertical-align: top;\n",
       "    }\n",
       "\n",
       "    .dataframe thead th {\n",
       "        text-align: right;\n",
       "    }\n",
       "</style>\n",
       "<table border=\"1\" class=\"dataframe\">\n",
       "  <thead>\n",
       "    <tr style=\"text-align: right;\">\n",
       "      <th></th>\n",
       "      <th>User-ID</th>\n",
       "      <th>ISBN</th>\n",
       "      <th>Book-Rating</th>\n",
       "    </tr>\n",
       "  </thead>\n",
       "  <tbody>\n",
       "    <tr>\n",
       "      <th>0</th>\n",
       "      <td>276725</td>\n",
       "      <td>034545104X</td>\n",
       "      <td>0</td>\n",
       "    </tr>\n",
       "    <tr>\n",
       "      <th>1</th>\n",
       "      <td>276726</td>\n",
       "      <td>0155061224</td>\n",
       "      <td>5</td>\n",
       "    </tr>\n",
       "    <tr>\n",
       "      <th>2</th>\n",
       "      <td>276727</td>\n",
       "      <td>0446520802</td>\n",
       "      <td>0</td>\n",
       "    </tr>\n",
       "    <tr>\n",
       "      <th>3</th>\n",
       "      <td>276729</td>\n",
       "      <td>052165615X</td>\n",
       "      <td>3</td>\n",
       "    </tr>\n",
       "    <tr>\n",
       "      <th>4</th>\n",
       "      <td>276729</td>\n",
       "      <td>0521795028</td>\n",
       "      <td>6</td>\n",
       "    </tr>\n",
       "  </tbody>\n",
       "</table>\n",
       "</div>"
      ],
      "text/plain": [
       "   User-ID        ISBN  Book-Rating\n",
       "0   276725  034545104X            0\n",
       "1   276726  0155061224            5\n",
       "2   276727  0446520802            0\n",
       "3   276729  052165615X            3\n",
       "4   276729  0521795028            6"
      ]
     },
     "execution_count": 6,
     "metadata": {},
     "output_type": "execute_result"
    }
   ],
   "source": [
    "rt.head()"
   ]
  },
  {
   "cell_type": "markdown",
   "id": "5363484e",
   "metadata": {},
   "source": [
    "### Question 1: Manipulating Dataframes\n",
    "\n",
    "So, for our first step we are going to use the loaded dataframes, to manipulate the data. You need to take the above dataframes and end up with two new dataframes. \n",
    "\n",
    "Dataframe 1 is going to be an Age table. What I want is 5 to 10 columns of age brackets, and in each of those age brackets, I want a count of how many users inhabit those age brackets. This should be a small table of just one row, but  \n",
    "\n",
    "Dataframe 2 is going to be a Review table, in which we have the User-ID, the Book-Rating, and the Book Title. \n"
   ]
  },
  {
   "cell_type": "code",
   "execution_count": 58,
   "id": "860554b8",
   "metadata": {},
   "outputs": [],
   "source": [
    "# Table 1\n",
    "# Make sure that your final df is called 'df1' \n"
   ]
  },
  {
   "cell_type": "code",
   "execution_count": 59,
   "id": "4567a5d0",
   "metadata": {},
   "outputs": [],
   "source": [
    "# Table 2\n",
    "# Make sure that your final df is called 'df2'"
   ]
  },
  {
   "cell_type": "code",
   "execution_count": 37,
   "id": "29e6142f",
   "metadata": {},
   "outputs": [],
   "source": [
    "# Check Table 1\n",
    "assert df1.iloc[0][3] == 27408 # Checking, does your count of 45 to 59 year olds match 27408?\n",
    "# Check Table 2\n",
    "assert df2.iloc[527][0] == 'Beloved (Plume Contemporary Fiction)' #Is your 527th row's book title this?\n",
    "\n",
    "#It's possible that you might get the correct answer, but somehow shuffle the order. \n",
    "#In such a case you won't pass the assert check, but still have completed the question. Check with the teacher."
   ]
  },
  {
   "cell_type": "markdown",
   "id": "07ff71ce",
   "metadata": {},
   "source": [
    "### Question 2: Feature Selection\n",
    "\n",
    "Create features that can be related to **both** the users and the items. There is more than one way that this can be done. You may choose to either show your answer in a table format or in a dictionary format. However, we should be able to take this and apply the features to any user and to any item. "
   ]
  },
  {
   "cell_type": "code",
   "execution_count": null,
   "id": "4e858c6c",
   "metadata": {},
   "outputs": [],
   "source": [
    "#This is an open ended question. We will discuss in class, but you might find another approach.\n",
    "#Just make sure you're prepared to explain your selection. \n",
    "#This is a fairly large question, that might be one of those cases where it takes a fair amount of thinking, but not too much coding. :D"
   ]
  },
  {
   "cell_type": "markdown",
   "id": "0263a4f1",
   "metadata": {},
   "source": [
    "### Question 3: Normalization\n",
    "\n",
    "Now that we have features, I want you to analyze whether or not the features are normalized. If they are normalized, then please explain why they are normalized values, additionally explain whether or not you are capturing discrete values or continuous values. \n",
    "\n",
    "If they are not normalized, then please apply some process to normalize them. Keep in mind that there might be a nifty panda method that will do just that for you. "
   ]
  },
  {
   "cell_type": "code",
   "execution_count": null,
   "id": "5304a688",
   "metadata": {},
   "outputs": [],
   "source": [
    "#Code if necessary"
   ]
  },
  {
   "cell_type": "markdown",
   "id": "078b7b1b",
   "metadata": {},
   "source": [
    "This is a markdown cell, you can type into it and it won't confuse it for code."
   ]
  },
  {
   "cell_type": "markdown",
   "id": "8da59d1e",
   "metadata": {},
   "source": []
  }
 ],
 "metadata": {
  "kernelspec": {
   "display_name": "Python 3 (ipykernel)",
   "language": "python",
   "name": "python3"
  },
  "language_info": {
   "codemirror_mode": {
    "name": "ipython",
    "version": 3
   },
   "file_extension": ".py",
   "mimetype": "text/x-python",
   "name": "python",
   "nbconvert_exporter": "python",
   "pygments_lexer": "ipython3",
   "version": "3.9.7"
  }
 },
 "nbformat": 4,
 "nbformat_minor": 5
}
